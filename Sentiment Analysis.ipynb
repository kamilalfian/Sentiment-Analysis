{
  "nbformat": 4,
  "nbformat_minor": 0,
  "metadata": {
    "colab": {
      "provenance": [],
      "gpuType": "T4"
    },
    "kernelspec": {
      "name": "python3",
      "display_name": "Python 3"
    },
    "language_info": {
      "name": "python"
    },
    "accelerator": "GPU"
  },
  "cells": [
    {
      "cell_type": "markdown",
      "source": [
        "PR kali ini merupakan pembuatan model untuk sentiment analysis. Pertama saya set up dulu random seed untuk memastikan repeatibility dari segala prosedur yang ada."
      ],
      "metadata": {
        "id": "_-VSniI5WrMb"
      }
    },
    {
      "cell_type": "code",
      "source": [
        "import random\n",
        "import numpy as np\n",
        "import torch"
      ],
      "metadata": {
        "id": "jCzjemePR6rd"
      },
      "execution_count": null,
      "outputs": []
    },
    {
      "cell_type": "code",
      "source": [
        "def set_seed(seed):\n",
        "    random.seed(seed)\n",
        "    np.random.seed(seed)\n",
        "    torch.manual_seed(seed)\n",
        "    torch.cuda.manual_seed(seed)\n",
        "\n",
        "# Set random seed\n",
        "set_seed(42)"
      ],
      "metadata": {
        "id": "v2sou1jlTCiJ"
      },
      "execution_count": null,
      "outputs": []
    },
    {
      "cell_type": "markdown",
      "source": [
        "Kemudian saya lakukan data cleaning mulai dari lowercasing, tokenizing, stemming, stopword removal. Keempat proses tersebut digabung menjadi satu melalui sebuah defined function bernama process_text.\n",
        "\n",
        "Saya juga akan memetakan sentimen negatif, netral, dan positif menjadi class 0, 1, dan 2.\n",
        "\n",
        "Karena proses stemming sangat lama, sengaja saya commented agar tidak perlu dilakukan process_text lagi dan langsung saja saya load dataframe yang sudah diproses."
      ],
      "metadata": {
        "id": "brecQTMNXF1E"
      }
    },
    {
      "cell_type": "code",
      "execution_count": null,
      "metadata": {
        "colab": {
          "base_uri": "https://localhost:8080/"
        },
        "id": "wrG8Ei9CcKgT",
        "outputId": "b2599acb-83bd-4ec0-c39f-27cf87ad47c8"
      },
      "outputs": [
        {
          "output_type": "stream",
          "name": "stdout",
          "text": [
            "Requirement already satisfied: Sastrawi in /usr/local/lib/python3.10/dist-packages (1.0.1)\n",
            "Requirement already satisfied: swifter in /usr/local/lib/python3.10/dist-packages (1.4.0)\n",
            "Requirement already satisfied: pandas>=1.0.0 in /usr/local/lib/python3.10/dist-packages (from swifter) (1.5.3)\n",
            "Requirement already satisfied: psutil>=5.6.6 in /usr/local/lib/python3.10/dist-packages (from swifter) (5.9.5)\n",
            "Requirement already satisfied: dask[dataframe]>=2.10.0 in /usr/local/lib/python3.10/dist-packages (from swifter) (2023.8.1)\n",
            "Requirement already satisfied: tqdm>=4.33.0 in /usr/local/lib/python3.10/dist-packages (from swifter) (4.66.1)\n",
            "Requirement already satisfied: click>=8.0 in /usr/local/lib/python3.10/dist-packages (from dask[dataframe]>=2.10.0->swifter) (8.1.7)\n",
            "Requirement already satisfied: cloudpickle>=1.5.0 in /usr/local/lib/python3.10/dist-packages (from dask[dataframe]>=2.10.0->swifter) (2.2.1)\n",
            "Requirement already satisfied: fsspec>=2021.09.0 in /usr/local/lib/python3.10/dist-packages (from dask[dataframe]>=2.10.0->swifter) (2023.6.0)\n",
            "Requirement already satisfied: packaging>=20.0 in /usr/local/lib/python3.10/dist-packages (from dask[dataframe]>=2.10.0->swifter) (23.2)\n",
            "Requirement already satisfied: partd>=1.2.0 in /usr/local/lib/python3.10/dist-packages (from dask[dataframe]>=2.10.0->swifter) (1.4.1)\n",
            "Requirement already satisfied: pyyaml>=5.3.1 in /usr/local/lib/python3.10/dist-packages (from dask[dataframe]>=2.10.0->swifter) (6.0.1)\n",
            "Requirement already satisfied: toolz>=0.10.0 in /usr/local/lib/python3.10/dist-packages (from dask[dataframe]>=2.10.0->swifter) (0.12.0)\n",
            "Requirement already satisfied: importlib-metadata>=4.13.0 in /usr/local/lib/python3.10/dist-packages (from dask[dataframe]>=2.10.0->swifter) (7.0.0)\n",
            "Requirement already satisfied: python-dateutil>=2.8.1 in /usr/local/lib/python3.10/dist-packages (from pandas>=1.0.0->swifter) (2.8.2)\n",
            "Requirement already satisfied: pytz>=2020.1 in /usr/local/lib/python3.10/dist-packages (from pandas>=1.0.0->swifter) (2023.3.post1)\n",
            "Requirement already satisfied: numpy>=1.21.0 in /usr/local/lib/python3.10/dist-packages (from pandas>=1.0.0->swifter) (1.23.5)\n",
            "Requirement already satisfied: zipp>=0.5 in /usr/local/lib/python3.10/dist-packages (from importlib-metadata>=4.13.0->dask[dataframe]>=2.10.0->swifter) (3.17.0)\n",
            "Requirement already satisfied: locket in /usr/local/lib/python3.10/dist-packages (from partd>=1.2.0->dask[dataframe]>=2.10.0->swifter) (1.0.0)\n",
            "Requirement already satisfied: six>=1.5 in /usr/local/lib/python3.10/dist-packages (from python-dateutil>=2.8.1->pandas>=1.0.0->swifter) (1.16.0)\n"
          ]
        },
        {
          "output_type": "stream",
          "name": "stderr",
          "text": [
            "[nltk_data] Downloading package stopwords to /root/nltk_data...\n",
            "[nltk_data]   Package stopwords is already up-to-date!\n"
          ]
        }
      ],
      "source": [
        "!pip install Sastrawi\n",
        "!pip install swifter\n",
        "import pandas as pd\n",
        "from nltk.tokenize import RegexpTokenizer\n",
        "from Sastrawi.Stemmer.StemmerFactory import StemmerFactory\n",
        "from nltk.corpus import stopwords\n",
        "from nltk.probability import FreqDist\n",
        "import nltk\n",
        "import swifter\n",
        "import ast\n",
        "\n",
        "# Download the 'stopwords' corpus for the 'indonesian' language\n",
        "nltk.download('stopwords')\n",
        "\n",
        "# Load stopwords\n",
        "stop_words = set(nltk.corpus.stopwords.words('indonesian')).union(['nya', 'kan', 'sih'])\n",
        "stop_words = [i for i in stop_words if i not in ['bagus','baik','kebaikan', 'buruk', 'keburukan', 'jelek', 'kejelekan', 'kejelekkan']]\n",
        "\n",
        "# Create tokenizer\n",
        "tokenizer = RegexpTokenizer(r'\\w+')\n",
        "\n",
        "# Create Porter stemmer\n",
        "factory = StemmerFactory()\n",
        "stemmer = factory.create_stemmer()\n",
        "\n",
        "# Function to process text\n",
        "def process_text(text):\n",
        "    # Lowercase\n",
        "    text = str.lower(text)\n",
        "    # Tokenize\n",
        "    tokens = tokenizer.tokenize(text)\n",
        "    # Add 'tidak_' to the stemmed word to prevent the negation word being removed by the stopword remover\n",
        "    negation = False\n",
        "    result = []\n",
        "    for word in tokens:\n",
        "        if word.lower() in ['tidak', 'bukan', 'tak']:\n",
        "            negation = not negation\n",
        "        else:\n",
        "            result.append('tidak_' + stemmer.stem(word) if negation else stemmer.stem(word))\n",
        "            negation = False\n",
        "    # Stopword removal\n",
        "    processed_text = [token for token in result if token not in stop_words]\n",
        "    return processed_text\n",
        "\n",
        "# Function to change sentiment label into integer\n",
        "def map_labels(label):\n",
        "    label_mapping = {'negative': 0, 'neutral': 1, 'positive': 2}\n",
        "    return label_mapping[label]\n",
        "\n",
        "# Read our TSV data and convert into CSV\n",
        "#train_df = pd.read_csv('train_preprocess.tsv', delimiter='\\t', header=None, names=['text_column', 'label_column'])\n",
        "#valid_df = pd.read_csv('valid_preprocess.tsv', delimiter='\\t', header=None, names=['text_column', 'label_column'])\n",
        "#test_df = pd.read_csv('test_preprocess.tsv', delimiter='\\t', header=None, names=['text_column', 'label_column'])\n",
        "\n",
        "# Process text in each dataframe\n",
        "#train_df['processed_text'] = train_df['text_column'].swifter.apply(process_text)\n",
        "#valid_df['processed_text'] = valid_df['text_column'].swifter.apply(process_text)\n",
        "#test_df['processed_text'] = test_df['text_column'].swifter.apply(process_text)\n",
        "\n",
        "# Map labels in the dataframes\n",
        "#train_df['numeric_label'] = train_df['label_column'].swifter.apply(map_labels)\n",
        "#valid_df['numeric_label'] = valid_df['label_column'].swifter.apply(map_labels)\n",
        "#test_df['numeric_label'] = test_df['label_column'].swifter.apply(map_labels)"
      ]
    },
    {
      "cell_type": "code",
      "source": [
        "# Save DataFrame to a CSV file\n",
        "#train_df.to_csv('train_df.csv',index=False)\n",
        "#valid_df.to_csv('valid_df.csv',index=False)\n",
        "#test_df.to_csv('test_df.csv',index=False)"
      ],
      "metadata": {
        "id": "WuYllj2F7xWs"
      },
      "execution_count": null,
      "outputs": []
    },
    {
      "cell_type": "markdown",
      "source": [
        "Berikut saya load dataframe yang sudah terproses."
      ],
      "metadata": {
        "id": "Ku5HnRXgXuhE"
      }
    },
    {
      "cell_type": "code",
      "source": [
        "train_df=pd.read_csv('train_df.csv')\n",
        "test_df=pd.read_csv('test_df.csv')\n",
        "valid_df=pd.read_csv('valid_df.csv')\n",
        "\n",
        "print(train_df.head())\n",
        "print(test_df.head())\n",
        "print(valid_df.head())"
      ],
      "metadata": {
        "id": "UMh_6HvH9ml4",
        "colab": {
          "base_uri": "https://localhost:8080/"
        },
        "outputId": "80d9d3b7-e85c-4047-ad81-5a62659c836e"
      },
      "execution_count": null,
      "outputs": [
        {
          "output_type": "stream",
          "name": "stdout",
          "text": [
            "                                         text_column label_column  \\\n",
            "0  warung ini dimiliki oleh pengusaha pabrik tahu...     positive   \n",
            "1  mohon ulama lurus dan k212 mmbri hujjah partai...      neutral   \n",
            "2  lokasi strategis di jalan sumatera bandung . t...     positive   \n",
            "3  betapa bahagia nya diri ini saat unboxing pake...     positive   \n",
            "4  duh . jadi mahasiswa jangan sombong dong . kas...     negative   \n",
            "\n",
            "                                      processed_text  numeric_label  \n",
            "0  ['warung', 'milik', 'usaha', 'pabrik', 'puluh'...              2  \n",
            "1  ['mohon', 'ulama', 'lurus', 'k212', 'mmbri', '...              1  \n",
            "2  ['lokasi', 'strategis', 'jalan', 'sumatera', '...              2  \n",
            "3  ['betapa', 'bahagia', 'unboxing', 'paket', 'ba...              2  \n",
            "4  ['duh', 'mahasiswa', 'sombong', 'kasih', 'kart...              0  \n",
            "                                         text_column label_column  \\\n",
            "0  kemarin gue datang ke tempat makan baru yang a...     negative   \n",
            "1  kayak nya sih gue tidak akan mau balik lagi ke...     negative   \n",
            "2  kalau dipikir-pikir , sebenarnya tidak ada yan...     negative   \n",
            "3  ini pertama kalinya gua ke bank buat ngurusin ...     negative   \n",
            "4  waktu sampai dengan gue pernah disuruh ibu lat...     negative   \n",
            "\n",
            "                                      processed_text  numeric_label  \n",
            "0  ['kemarin', 'gue', 'makan', 'dago', 'gue', 'ma...              0  \n",
            "1  ['kayak', 'gue', 'tidak_akan', 'gila', 'ya', '...              0  \n",
            "2  ['pikir', 'pikir', 'tidak_ada', 'bangga', 'jok...              0  \n",
            "3  ['kali', 'gua', 'bank', 'ngurusin', 'rekening'...              0  \n",
            "4  ['gue', 'suruh', 'latih', 'karate', 'biar', 'g...              0  \n",
            "                                         text_column label_column  \\\n",
            "0  meski masa kampanye sudah selesai , bukan bera...      neutral   \n",
            "1                                         tidak enak     negative   \n",
            "2  restoran ini menawarkan makanan sunda . kami m...     positive   \n",
            "3  lokasi di alun alun masakan padang ini cukup t...     positive   \n",
            "4  betapa bejad kader gerindra yang anggota dprd ...     negative   \n",
            "\n",
            "                                      processed_text  numeric_label  \n",
            "0  ['kampanye', 'selesai', 'tidak_berat', 'habis'...              1  \n",
            "1                                     ['tidak_enak']              0  \n",
            "2  ['restoran', 'tawar', 'makan', 'sunda', 'mes',...              2  \n",
            "3  ['lokasi', 'alun', 'alun', 'masakan', 'padang'...              2  \n",
            "4  ['betapa', 'bejad', 'kader', 'gerindra', 'angg...              0  \n"
          ]
        }
      ]
    },
    {
      "cell_type": "markdown",
      "source": [
        "Kemudian agar compatible dengan tfidf, saya convert dulu format text pada dataframe menjadi list menggunakan function convert_text_list dibantu library ast. Terakhir saya combine menggunakan function to_sentence."
      ],
      "metadata": {
        "id": "R8Ig674UX1SA"
      }
    },
    {
      "cell_type": "code",
      "source": [
        "import ast\n",
        "import numpy as np\n",
        "\n",
        "def convert_text_list(texts):\n",
        "  texts=ast.literal_eval(texts)\n",
        "  return [text for text in texts]\n",
        "\n",
        "def to_sentence(word_list):\n",
        "    return ' '.join(word_list)\n",
        "\n",
        "train_df['processed_list']=train_df['processed_text'].apply(convert_text_list)\n",
        "train_df['combined_list'] = train_df['processed_list'].apply(to_sentence)\n",
        "\n",
        "valid_df['processed_list']=valid_df['processed_text'].apply(convert_text_list)\n",
        "valid_df['combined_list'] = valid_df['processed_list'].apply(to_sentence)\n",
        "\n",
        "test_df['processed_list']=test_df['processed_text'].apply(convert_text_list)\n",
        "test_df['combined_list'] = test_df['processed_list'].apply(to_sentence)\n",
        "\n",
        "print(train_df.head())\n",
        "print(valid_df.head())\n",
        "print(test_df.head())"
      ],
      "metadata": {
        "colab": {
          "base_uri": "https://localhost:8080/"
        },
        "id": "66DqA8FirUpQ",
        "outputId": "d0105e5c-a0fe-4fa4-a7d3-667868a0bace"
      },
      "execution_count": null,
      "outputs": [
        {
          "output_type": "stream",
          "name": "stdout",
          "text": [
            "                                         text_column label_column  \\\n",
            "0  warung ini dimiliki oleh pengusaha pabrik tahu...     positive   \n",
            "1  mohon ulama lurus dan k212 mmbri hujjah partai...      neutral   \n",
            "2  lokasi strategis di jalan sumatera bandung . t...     positive   \n",
            "3  betapa bahagia nya diri ini saat unboxing pake...     positive   \n",
            "4  duh . jadi mahasiswa jangan sombong dong . kas...     negative   \n",
            "\n",
            "                                      processed_text  numeric_label  \\\n",
            "0  ['warung', 'milik', 'usaha', 'pabrik', 'puluh'...              2   \n",
            "1  ['mohon', 'ulama', 'lurus', 'k212', 'mmbri', '...              1   \n",
            "2  ['lokasi', 'strategis', 'jalan', 'sumatera', '...              2   \n",
            "3  ['betapa', 'bahagia', 'unboxing', 'paket', 'ba...              2   \n",
            "4  ['duh', 'mahasiswa', 'sombong', 'kasih', 'kart...              0   \n",
            "\n",
            "                                      processed_list  \\\n",
            "0  [warung, milik, usaha, pabrik, puluh, kenal, p...   \n",
            "1  [mohon, ulama, lurus, k212, mmbri, hujjah, par...   \n",
            "2  [lokasi, strategis, jalan, sumatera, bandung, ...   \n",
            "3  [betapa, bahagia, unboxing, paket, barang, bag...   \n",
            "4  [duh, mahasiswa, sombong, kasih, kartu, kuning...   \n",
            "\n",
            "                                       combined_list  \n",
            "0  warung milik usaha pabrik puluh kenal putih ba...  \n",
            "1  mohon ulama lurus k212 mmbri hujjah partai diw...  \n",
            "2  lokasi strategis jalan sumatera bandung nyaman...  \n",
            "3    betapa bahagia unboxing paket barang bagus beli  \n",
            "4  duh mahasiswa sombong kasih kartu kuning ajar ...  \n",
            "                                         text_column label_column  \\\n",
            "0  meski masa kampanye sudah selesai , bukan bera...      neutral   \n",
            "1                                         tidak enak     negative   \n",
            "2  restoran ini menawarkan makanan sunda . kami m...     positive   \n",
            "3  lokasi di alun alun masakan padang ini cukup t...     positive   \n",
            "4  betapa bejad kader gerindra yang anggota dprd ...     negative   \n",
            "\n",
            "                                      processed_text  numeric_label  \\\n",
            "0  ['kampanye', 'selesai', 'tidak_berat', 'habis'...              1   \n",
            "1                                     ['tidak_enak']              0   \n",
            "2  ['restoran', 'tawar', 'makan', 'sunda', 'mes',...              2   \n",
            "3  ['lokasi', 'alun', 'alun', 'masakan', 'padang'...              2   \n",
            "4  ['betapa', 'bejad', 'kader', 'gerindra', 'angg...              0   \n",
            "\n",
            "                                      processed_list  \\\n",
            "0  [kampanye, selesai, tidak_berat, habis, upaya,...   \n",
            "1                                       [tidak_enak]   \n",
            "2  [restoran, tawar, makan, sunda, mes, ayam, gor...   \n",
            "3  [lokasi, alun, alun, masakan, padang, kenal, k...   \n",
            "4  [betapa, bejad, kader, gerindra, anggota, dprd...   \n",
            "\n",
            "                                       combined_list  \n",
            "0  kampanye selesai tidak_berat habis upaya kerek...  \n",
            "1                                         tidak_enak  \n",
            "2  restoran tawar makan sunda mes ayam goreng kan...  \n",
            "3  lokasi alun alun masakan padang kenal kepala i...  \n",
            "4  betapa bejad kader gerindra anggota dprd cabul...  \n",
            "                                         text_column label_column  \\\n",
            "0  kemarin gue datang ke tempat makan baru yang a...     negative   \n",
            "1  kayak nya sih gue tidak akan mau balik lagi ke...     negative   \n",
            "2  kalau dipikir-pikir , sebenarnya tidak ada yan...     negative   \n",
            "3  ini pertama kalinya gua ke bank buat ngurusin ...     negative   \n",
            "4  waktu sampai dengan gue pernah disuruh ibu lat...     negative   \n",
            "\n",
            "                                      processed_text  numeric_label  \\\n",
            "0  ['kemarin', 'gue', 'makan', 'dago', 'gue', 'ma...              0   \n",
            "1  ['kayak', 'gue', 'tidak_akan', 'gila', 'ya', '...              0   \n",
            "2  ['pikir', 'pikir', 'tidak_ada', 'bangga', 'jok...              0   \n",
            "3  ['kali', 'gua', 'bank', 'ngurusin', 'rekening'...              0   \n",
            "4  ['gue', 'suruh', 'latih', 'karate', 'biar', 'g...              0   \n",
            "\n",
            "                                      processed_list  \\\n",
            "0  [kemarin, gue, makan, dago, gue, makan, enak, ...   \n",
            "1  [kayak, gue, tidak_akan, gila, ya, gue, ngerti...   \n",
            "2  [pikir, pikir, tidak_ada, bangga, jokowi, tida...   \n",
            "3  [kali, gua, bank, ngurusin, rekening, nama, or...   \n",
            "4  [gue, suruh, latih, karate, biar, gue, lawan, ...   \n",
            "\n",
            "                                       combined_list  \n",
            "0  kemarin gue makan dago gue makan enak harga ma...  \n",
            "1  kayak gue tidak_akan gila ya gue ngerti biar p...  \n",
            "2  pikir pikir tidak_ada bangga jokowi tidak_bisa...  \n",
            "3  kali gua bank ngurusin rekening nama orang kal...  \n",
            "4  gue suruh latih karate biar gue lawan jahat la...  \n"
          ]
        }
      ]
    },
    {
      "cell_type": "markdown",
      "source": [
        "Kemudian berikut adalah pembuatan model menggunakan tensorflow. Pertama saya bagi dulu dataframe menjadi x_train, y_train, x_valid, dan y_valid untuk kebutuhan training dan validation saat training. Untuk data x_test dan y_test juga akan dibuat nantinya saat akan melakukan evaluasi model.\n",
        "\n",
        "Kemudian untuk data independen (x_train dan x_valid) akan diproses menggunakan tfidf vectorizer sebagai quantifier untuk menghitung seberapa pentingnya tiap kata pada data.\n",
        "\n",
        "Untuk pembuatan model kali ini akan dilakukan hyperparameter tuning menggunakan optuna dimana yang akan dituning adalah jumlah layer (berkisar antara 2-5 layer) dan jumlah neuron per layer.\n",
        "\n",
        "Pada akhirnya didapat parameter tuning terbaik sebanyak 3 layer dengan detil sebagai berikut: Best Hyperparameters: {'n_layers': 3, 'units_layer_0': 427, 'units_layer_1': 348, 'units_layer_2': 232}"
      ],
      "metadata": {
        "id": "FUWqPEs8bKgq"
      }
    },
    {
      "cell_type": "code",
      "source": [
        "import numpy as np\n",
        "!pip install optuna\n",
        "from sklearn.feature_extraction.text import TfidfVectorizer\n",
        "from tensorflow.keras.models import Sequential\n",
        "from tensorflow.keras.layers import Dense, Flatten, Dropout\n",
        "from keras.callbacks import EarlyStopping\n",
        "import optuna\n",
        "from keras.utils import to_categorical\n",
        "\n",
        "# Create training data\n",
        "x_train=train_df['combined_list']\n",
        "y_train=train_df['numeric_label']\n",
        "x_valid=valid_df['combined_list']\n",
        "y_valid=valid_df['numeric_label']\n",
        "\n",
        "# Instantiate the custom callback\n",
        "class CustomEarlyStopping(EarlyStopping):\n",
        "    def on_train_end(self, logs=None):\n",
        "        if self.stopped_epoch > 0 and self.verbose > 0:\n",
        "            print(f\"Epoch {self.stopped_epoch + 1}: Early stopping\")\n",
        "\n",
        "        if self.restore_best_weights and self.best_weights is not None:\n",
        "            if self.verbose > 0:\n",
        "                print(f\"Restoring model weights from the end of the best epoch: {self.best_epoch + 1}.\")\n",
        "            self.model.set_weights(self.best_weights)\n",
        "custom_early_stopping = CustomEarlyStopping(monitor='val_loss', patience=10, restore_best_weights=True, verbose=1)\n",
        "\n",
        "# Create a TfidfVectorizer and vectorize x\n",
        "tfidf_vectorizer = TfidfVectorizer()\n",
        "x_train=tfidf_vectorizer.fit_transform(x_train)\n",
        "x_valid=tfidf_vectorizer.transform(x_valid)\n",
        "\n",
        "# Convert y to one hot encoded categorical\n",
        "y_train = to_categorical(y_train, num_classes=3)\n",
        "y_valid = to_categorical(y_valid, num_classes=3)\n",
        "\n",
        "# Initialize global history variable for future plotting\n",
        "global_history = None\n",
        "\n",
        "# Objective function for Optuna\n",
        "def objective(trial):\n",
        "\n",
        "    global global_history\n",
        "\n",
        "    # Define the model\n",
        "    model = Sequential()\n",
        "\n",
        "    # Flatten layer to handle the input shape\n",
        "    model.add(Flatten(input_shape=(x_train.shape[1], 1)))\n",
        "\n",
        "    # Add intermediate dense layers based on the trial suggestion\n",
        "    for i in range(trial.suggest_int('n_layers', 1, 5)):\n",
        "        model.add(Dense(units=trial.suggest_int(f'units_layer_{i}', 100, 600), activation='relu'))\n",
        "\n",
        "    # Add the output layer\n",
        "    model.add(Dense(units=3, activation='softmax'))\n",
        "\n",
        "    # Compile the model\n",
        "    model.compile(optimizer='adam', loss='categorical_crossentropy', metrics=['accuracy'])\n",
        "\n",
        "    # Train the model\n",
        "    history=model.fit(x_train.toarray(), y_train, epochs=5, batch_size=32, validation_data=(x_valid.toarray(), y_valid), callbacks=[custom_early_stopping])\n",
        "\n",
        "    global_history=history\n",
        "\n",
        "    val_loss = min(history.history['val_loss'])\n",
        "\n",
        "    return val_loss\n",
        "\n",
        "study = optuna.create_study(direction='minimize')\n",
        "study.optimize(objective, n_trials=10)\n",
        "trial = study.best_trial\n",
        "print('Best Hyperparameters: {}'.format(trial.params))\n",
        "\n",
        "# Access the history variable after optimization\n",
        "final_history = global_history"
      ],
      "metadata": {
        "colab": {
          "base_uri": "https://localhost:8080/"
        },
        "id": "_-KoOwHzeH5P",
        "outputId": "85321fc6-d2a1-416f-d260-b9d33f05ca24"
      },
      "execution_count": null,
      "outputs": [
        {
          "output_type": "stream",
          "name": "stdout",
          "text": [
            "Requirement already satisfied: optuna in /usr/local/lib/python3.10/dist-packages (3.5.0)\n",
            "Requirement already satisfied: alembic>=1.5.0 in /usr/local/lib/python3.10/dist-packages (from optuna) (1.13.1)\n",
            "Requirement already satisfied: colorlog in /usr/local/lib/python3.10/dist-packages (from optuna) (6.8.0)\n",
            "Requirement already satisfied: numpy in /usr/local/lib/python3.10/dist-packages (from optuna) (1.23.5)\n",
            "Requirement already satisfied: packaging>=20.0 in /usr/local/lib/python3.10/dist-packages (from optuna) (23.2)\n",
            "Requirement already satisfied: sqlalchemy>=1.3.0 in /usr/local/lib/python3.10/dist-packages (from optuna) (2.0.23)\n",
            "Requirement already satisfied: tqdm in /usr/local/lib/python3.10/dist-packages (from optuna) (4.66.1)\n",
            "Requirement already satisfied: PyYAML in /usr/local/lib/python3.10/dist-packages (from optuna) (6.0.1)\n",
            "Requirement already satisfied: Mako in /usr/local/lib/python3.10/dist-packages (from alembic>=1.5.0->optuna) (1.3.0)\n",
            "Requirement already satisfied: typing-extensions>=4 in /usr/local/lib/python3.10/dist-packages (from alembic>=1.5.0->optuna) (4.5.0)\n",
            "Requirement already satisfied: greenlet!=0.4.17 in /usr/local/lib/python3.10/dist-packages (from sqlalchemy>=1.3.0->optuna) (3.0.2)\n",
            "Requirement already satisfied: MarkupSafe>=0.9.2 in /usr/local/lib/python3.10/dist-packages (from Mako->alembic>=1.5.0->optuna) (2.1.3)\n"
          ]
        },
        {
          "output_type": "stream",
          "name": "stderr",
          "text": [
            "[I 2023-12-28 12:06:06,229] A new study created in memory with name: no-name-da706b13-6539-4d34-8fed-cc2f1ec178fe\n"
          ]
        },
        {
          "output_type": "stream",
          "name": "stdout",
          "text": [
            "Epoch 1/5\n",
            "344/344 [==============================] - 8s 9ms/step - loss: 0.4424 - accuracy: 0.8235 - val_loss: 0.3313 - val_accuracy: 0.8810\n",
            "Epoch 2/5\n",
            "344/344 [==============================] - 2s 5ms/step - loss: 0.1372 - accuracy: 0.9548 - val_loss: 0.3717 - val_accuracy: 0.8786\n",
            "Epoch 3/5\n",
            "344/344 [==============================] - 2s 7ms/step - loss: 0.0453 - accuracy: 0.9871 - val_loss: 0.4943 - val_accuracy: 0.8667\n",
            "Epoch 4/5\n",
            "344/344 [==============================] - 2s 6ms/step - loss: 0.0174 - accuracy: 0.9948 - val_loss: 0.5998 - val_accuracy: 0.8683\n",
            "Epoch 5/5\n",
            "344/344 [==============================] - 2s 5ms/step - loss: 0.0084 - accuracy: 0.9975 - val_loss: 0.6835 - val_accuracy: 0.8587\n",
            "Restoring model weights from the end of the best epoch: 1.\n"
          ]
        },
        {
          "output_type": "stream",
          "name": "stderr",
          "text": [
            "[I 2023-12-28 12:06:35,675] Trial 0 finished with value: 0.3312765657901764 and parameters: {'n_layers': 2, 'units_layer_0': 365, 'units_layer_1': 115}. Best is trial 0 with value: 0.3312765657901764.\n"
          ]
        },
        {
          "output_type": "stream",
          "name": "stdout",
          "text": [
            "Epoch 1/5\n",
            "344/344 [==============================] - 4s 7ms/step - loss: 0.4378 - accuracy: 0.8275 - val_loss: 0.3216 - val_accuracy: 0.8849\n",
            "Epoch 2/5\n",
            "344/344 [==============================] - 2s 6ms/step - loss: 0.1234 - accuracy: 0.9582 - val_loss: 0.4480 - val_accuracy: 0.8476\n",
            "Epoch 3/5\n",
            "344/344 [==============================] - 2s 6ms/step - loss: 0.0342 - accuracy: 0.9888 - val_loss: 0.5524 - val_accuracy: 0.8651\n",
            "Epoch 4/5\n",
            "344/344 [==============================] - 2s 6ms/step - loss: 0.0115 - accuracy: 0.9964 - val_loss: 0.7631 - val_accuracy: 0.8706\n",
            "Epoch 5/5\n",
            "344/344 [==============================] - 3s 8ms/step - loss: 0.0067 - accuracy: 0.9979 - val_loss: 0.7673 - val_accuracy: 0.8651\n",
            "Restoring model weights from the end of the best epoch: 1.\n"
          ]
        },
        {
          "output_type": "stream",
          "name": "stderr",
          "text": [
            "[I 2023-12-28 12:06:59,738] Trial 1 finished with value: 0.321591854095459 and parameters: {'n_layers': 3, 'units_layer_0': 427, 'units_layer_1': 348, 'units_layer_2': 232}. Best is trial 1 with value: 0.321591854095459.\n"
          ]
        },
        {
          "output_type": "stream",
          "name": "stdout",
          "text": [
            "Epoch 1/5\n",
            "344/344 [==============================] - 5s 7ms/step - loss: 0.4524 - accuracy: 0.8207 - val_loss: 0.3396 - val_accuracy: 0.8746\n",
            "Epoch 2/5\n",
            "344/344 [==============================] - 2s 6ms/step - loss: 0.1438 - accuracy: 0.9512 - val_loss: 0.3773 - val_accuracy: 0.8738\n",
            "Epoch 3/5\n",
            "344/344 [==============================] - 2s 6ms/step - loss: 0.0398 - accuracy: 0.9873 - val_loss: 0.5932 - val_accuracy: 0.8651\n",
            "Epoch 4/5\n",
            "344/344 [==============================] - 2s 6ms/step - loss: 0.0136 - accuracy: 0.9957 - val_loss: 0.8597 - val_accuracy: 0.8683\n",
            "Epoch 5/5\n",
            "344/344 [==============================] - 3s 7ms/step - loss: 0.0060 - accuracy: 0.9979 - val_loss: 1.0198 - val_accuracy: 0.8746\n",
            "Restoring model weights from the end of the best epoch: 1.\n"
          ]
        },
        {
          "output_type": "stream",
          "name": "stderr",
          "text": [
            "[I 2023-12-28 12:07:24,111] Trial 2 finished with value: 0.3396088480949402 and parameters: {'n_layers': 4, 'units_layer_0': 396, 'units_layer_1': 130, 'units_layer_2': 560, 'units_layer_3': 289}. Best is trial 1 with value: 0.321591854095459.\n"
          ]
        },
        {
          "output_type": "stream",
          "name": "stdout",
          "text": [
            "Epoch 1/5\n",
            "344/344 [==============================] - 5s 6ms/step - loss: 0.4639 - accuracy: 0.8161 - val_loss: 0.3573 - val_accuracy: 0.8722\n",
            "Epoch 2/5\n",
            "344/344 [==============================] - 2s 5ms/step - loss: 0.1552 - accuracy: 0.9469 - val_loss: 0.3640 - val_accuracy: 0.8738\n",
            "Epoch 3/5\n",
            "344/344 [==============================] - 2s 5ms/step - loss: 0.0446 - accuracy: 0.9850 - val_loss: 0.7118 - val_accuracy: 0.8476\n",
            "Epoch 4/5\n",
            "344/344 [==============================] - 2s 5ms/step - loss: 0.0144 - accuracy: 0.9955 - val_loss: 0.7719 - val_accuracy: 0.8706\n",
            "Epoch 5/5\n",
            "344/344 [==============================] - 2s 5ms/step - loss: 0.0074 - accuracy: 0.9978 - val_loss: 0.9084 - val_accuracy: 0.8627\n",
            "Restoring model weights from the end of the best epoch: 1.\n"
          ]
        },
        {
          "output_type": "stream",
          "name": "stderr",
          "text": [
            "[I 2023-12-28 12:07:48,100] Trial 3 finished with value: 0.3572653532028198 and parameters: {'n_layers': 4, 'units_layer_0': 159, 'units_layer_1': 399, 'units_layer_2': 274, 'units_layer_3': 456}. Best is trial 1 with value: 0.321591854095459.\n"
          ]
        },
        {
          "output_type": "stream",
          "name": "stdout",
          "text": [
            "Epoch 1/5\n",
            "344/344 [==============================] - 6s 8ms/step - loss: 0.4678 - accuracy: 0.8149 - val_loss: 0.3843 - val_accuracy: 0.8556\n",
            "Epoch 2/5\n",
            "344/344 [==============================] - 3s 9ms/step - loss: 0.1633 - accuracy: 0.9465 - val_loss: 0.3789 - val_accuracy: 0.8690\n",
            "Epoch 3/5\n",
            "344/344 [==============================] - 3s 7ms/step - loss: 0.0453 - accuracy: 0.9854 - val_loss: 0.6899 - val_accuracy: 0.8675\n",
            "Epoch 4/5\n",
            "344/344 [==============================] - 2s 6ms/step - loss: 0.0165 - accuracy: 0.9950 - val_loss: 0.7730 - val_accuracy: 0.8643\n",
            "Epoch 5/5\n",
            "344/344 [==============================] - 3s 8ms/step - loss: 0.0062 - accuracy: 0.9984 - val_loss: 0.7602 - val_accuracy: 0.8683\n",
            "Restoring model weights from the end of the best epoch: 2.\n"
          ]
        },
        {
          "output_type": "stream",
          "name": "stderr",
          "text": [
            "[I 2023-12-28 12:08:11,917] Trial 4 finished with value: 0.37887927889823914 and parameters: {'n_layers': 5, 'units_layer_0': 342, 'units_layer_1': 371, 'units_layer_2': 488, 'units_layer_3': 295, 'units_layer_4': 568}. Best is trial 1 with value: 0.321591854095459.\n"
          ]
        },
        {
          "output_type": "stream",
          "name": "stdout",
          "text": [
            "Epoch 1/5\n",
            "344/344 [==============================] - 4s 8ms/step - loss: 0.4406 - accuracy: 0.8225 - val_loss: 0.3280 - val_accuracy: 0.8810\n",
            "Epoch 2/5\n",
            "344/344 [==============================] - 2s 6ms/step - loss: 0.1321 - accuracy: 0.9554 - val_loss: 0.4142 - val_accuracy: 0.8667\n",
            "Epoch 3/5\n",
            "344/344 [==============================] - 2s 6ms/step - loss: 0.0377 - accuracy: 0.9890 - val_loss: 0.5245 - val_accuracy: 0.8587\n",
            "Epoch 4/5\n",
            "344/344 [==============================] - 2s 6ms/step - loss: 0.0131 - accuracy: 0.9965 - val_loss: 0.6110 - val_accuracy: 0.8635\n",
            "Epoch 5/5\n",
            "344/344 [==============================] - 2s 5ms/step - loss: 0.0046 - accuracy: 0.9987 - val_loss: 0.7519 - val_accuracy: 0.8659\n",
            "Restoring model weights from the end of the best epoch: 1.\n"
          ]
        },
        {
          "output_type": "stream",
          "name": "stderr",
          "text": [
            "[I 2023-12-28 12:08:26,371] Trial 5 finished with value: 0.32795003056526184 and parameters: {'n_layers': 2, 'units_layer_0': 496, 'units_layer_1': 434}. Best is trial 1 with value: 0.321591854095459.\n"
          ]
        },
        {
          "output_type": "stream",
          "name": "stdout",
          "text": [
            "Epoch 1/5\n",
            "344/344 [==============================] - 4s 9ms/step - loss: 0.4574 - accuracy: 0.8144 - val_loss: 0.3240 - val_accuracy: 0.8810\n",
            "Epoch 2/5\n",
            "344/344 [==============================] - 2s 6ms/step - loss: 0.1564 - accuracy: 0.9498 - val_loss: 0.3656 - val_accuracy: 0.8754\n",
            "Epoch 3/5\n",
            "344/344 [==============================] - 2s 6ms/step - loss: 0.0658 - accuracy: 0.9806 - val_loss: 0.4140 - val_accuracy: 0.8667\n",
            "Epoch 4/5\n",
            "344/344 [==============================] - 2s 6ms/step - loss: 0.0325 - accuracy: 0.9918 - val_loss: 0.4818 - val_accuracy: 0.8635\n",
            "Epoch 5/5\n",
            "344/344 [==============================] - 2s 5ms/step - loss: 0.0182 - accuracy: 0.9951 - val_loss: 0.5356 - val_accuracy: 0.8579\n",
            "Restoring model weights from the end of the best epoch: 1.\n"
          ]
        },
        {
          "output_type": "stream",
          "name": "stderr",
          "text": [
            "[I 2023-12-28 12:08:49,658] Trial 6 finished with value: 0.32404541969299316 and parameters: {'n_layers': 1, 'units_layer_0': 539}. Best is trial 1 with value: 0.321591854095459.\n"
          ]
        },
        {
          "output_type": "stream",
          "name": "stdout",
          "text": [
            "Epoch 1/5\n",
            "344/344 [==============================] - 4s 7ms/step - loss: 0.4665 - accuracy: 0.8129 - val_loss: 0.3258 - val_accuracy: 0.8810\n",
            "Epoch 2/5\n",
            "344/344 [==============================] - 2s 6ms/step - loss: 0.1470 - accuracy: 0.9490 - val_loss: 0.3675 - val_accuracy: 0.8802\n",
            "Epoch 3/5\n",
            "344/344 [==============================] - 2s 5ms/step - loss: 0.0462 - accuracy: 0.9845 - val_loss: 0.4897 - val_accuracy: 0.8698\n",
            "Epoch 4/5\n",
            "344/344 [==============================] - 2s 5ms/step - loss: 0.0182 - accuracy: 0.9943 - val_loss: 0.6736 - val_accuracy: 0.8619\n",
            "Epoch 5/5\n",
            "344/344 [==============================] - 2s 5ms/step - loss: 0.0089 - accuracy: 0.9972 - val_loss: 0.7917 - val_accuracy: 0.8595\n"
          ]
        },
        {
          "output_type": "stream",
          "name": "stderr",
          "text": [
            "[I 2023-12-28 12:09:02,832] Trial 7 finished with value: 0.32581984996795654 and parameters: {'n_layers': 3, 'units_layer_0': 132, 'units_layer_1': 168, 'units_layer_2': 132}. Best is trial 1 with value: 0.321591854095459.\n"
          ]
        },
        {
          "output_type": "stream",
          "name": "stdout",
          "text": [
            "Restoring model weights from the end of the best epoch: 1.\n",
            "Epoch 1/5\n",
            "344/344 [==============================] - 4s 7ms/step - loss: 0.4489 - accuracy: 0.8205 - val_loss: 0.3338 - val_accuracy: 0.8857\n",
            "Epoch 2/5\n",
            "344/344 [==============================] - 2s 6ms/step - loss: 0.1434 - accuracy: 0.9529 - val_loss: 0.3843 - val_accuracy: 0.8714\n",
            "Epoch 3/5\n",
            "344/344 [==============================] - 2s 5ms/step - loss: 0.0429 - accuracy: 0.9867 - val_loss: 0.5097 - val_accuracy: 0.8738\n",
            "Epoch 4/5\n",
            "344/344 [==============================] - 2s 5ms/step - loss: 0.0158 - accuracy: 0.9948 - val_loss: 0.7317 - val_accuracy: 0.8643\n",
            "Epoch 5/5\n",
            "344/344 [==============================] - 2s 5ms/step - loss: 0.0084 - accuracy: 0.9976 - val_loss: 0.7688 - val_accuracy: 0.8722\n",
            "Restoring model weights from the end of the best epoch: 1.\n"
          ]
        },
        {
          "output_type": "stream",
          "name": "stderr",
          "text": [
            "[I 2023-12-28 12:09:26,395] Trial 8 finished with value: 0.3338426351547241 and parameters: {'n_layers': 3, 'units_layer_0': 171, 'units_layer_1': 254, 'units_layer_2': 224}. Best is trial 1 with value: 0.321591854095459.\n"
          ]
        },
        {
          "output_type": "stream",
          "name": "stdout",
          "text": [
            "Epoch 1/5\n",
            "344/344 [==============================] - 5s 9ms/step - loss: 0.4480 - accuracy: 0.8266 - val_loss: 0.3555 - val_accuracy: 0.8786\n",
            "Epoch 2/5\n",
            "344/344 [==============================] - 2s 7ms/step - loss: 0.1522 - accuracy: 0.9498 - val_loss: 0.4015 - val_accuracy: 0.8587\n",
            "Epoch 3/5\n",
            "344/344 [==============================] - 2s 6ms/step - loss: 0.0368 - accuracy: 0.9890 - val_loss: 0.6744 - val_accuracy: 0.8667\n",
            "Epoch 4/5\n",
            "344/344 [==============================] - 2s 6ms/step - loss: 0.0124 - accuracy: 0.9962 - val_loss: 0.6570 - val_accuracy: 0.8643\n",
            "Epoch 5/5\n",
            "344/344 [==============================] - 2s 6ms/step - loss: 0.0072 - accuracy: 0.9980 - val_loss: 1.1150 - val_accuracy: 0.8683\n",
            "Restoring model weights from the end of the best epoch: 1.\n"
          ]
        },
        {
          "output_type": "stream",
          "name": "stderr",
          "text": [
            "[I 2023-12-28 12:09:50,232] Trial 9 finished with value: 0.3554740250110626 and parameters: {'n_layers': 5, 'units_layer_0': 404, 'units_layer_1': 328, 'units_layer_2': 275, 'units_layer_3': 600, 'units_layer_4': 564}. Best is trial 1 with value: 0.321591854095459.\n"
          ]
        },
        {
          "output_type": "stream",
          "name": "stdout",
          "text": [
            "Best Hyperparameters: {'n_layers': 3, 'units_layer_0': 427, 'units_layer_1': 348, 'units_layer_2': 232}\n"
          ]
        }
      ]
    },
    {
      "cell_type": "markdown",
      "source": [
        "Berikut adalah plot learning curvenya. Terlihat bahwa penambahan epoch hanya meningkatkan performance training namun tidak pada testing. Hal ini disebabkan karena penambahan epoch akan membuat model semakin memahami data training, namun tidak mampu digeneralisasikan ke validation sehingga terjadi sedikit overfitting.\n",
        "\n",
        "Menurut saya, overfitting ini disebabkan karena data yang masih kurang bersih. Meskipun sudah dilakukan proses cleaning standar, namun belum dilakukan typo/misspelling checking."
      ],
      "metadata": {
        "id": "8lltycC8cFn9"
      }
    },
    {
      "cell_type": "code",
      "source": [
        "import matplotlib.pyplot as plt\n",
        "\n",
        "def plot_loss(history):\n",
        "    plt.style.use(\"ggplot\")\n",
        "    plt.figure(figsize=(8, 4))\n",
        "    plt.plot(history.history['loss'])\n",
        "    plt.plot(history.history['val_loss'])\n",
        "    plt.title(\"Model's training loss\")\n",
        "    plt.xlabel(\"Epoch #\")\n",
        "    plt.ylabel(\"Loss\")\n",
        "    plt.legend(['Train', 'Test'], loc='upper left')\n",
        "    plt.show()\n",
        "\n",
        "\n",
        "def plot_accuracy(history):\n",
        "    plt.style.use(\"ggplot\")\n",
        "    plt.figure(figsize=(8, 4))\n",
        "    plt.plot(history.history['accuracy'])\n",
        "    plt.plot(history.history['val_accuracy'])\n",
        "    plt.title(\"Model's training accuracy\")\n",
        "    plt.xlabel(\"Epoch #\")\n",
        "    plt.ylabel(\"Accuracy\")\n",
        "    plt.legend(['Train', 'Test'], loc='upper left')\n",
        "    plt.show()\n",
        "\n",
        "plot_loss(final_history)\n",
        "plot_accuracy(final_history)"
      ],
      "metadata": {
        "colab": {
          "base_uri": "https://localhost:8080/",
          "height": 813
        },
        "id": "aghbYv4wSjSX",
        "outputId": "65ea6a2f-c092-46b7-8314-df879751dd8d"
      },
      "execution_count": null,
      "outputs": [
        {
          "output_type": "display_data",
          "data": {
            "text/plain": [
              "<Figure size 800x400 with 1 Axes>"
            ],
            "image/png": "[encoded data removed]"
          },
          "metadata": {}
        },
        {
          "output_type": "display_data",
          "data": {
            "text/plain": [
              "<Figure size 800x400 with 1 Axes>"
            ],
            "image/png": "[encoded data removed]"
          },
          "metadata": {}
        }
      ]
    },
    {
      "cell_type": "code",
      "source": [
        "model = Sequential()\n",
        "\n",
        "# Flatten layer to handle the input shape\n",
        "model.add(Flatten(input_shape=(x_train.shape[1], 1)))\n",
        "\n",
        "# Add intermediate dense layers based on the trial suggestion\n",
        "for i in range(trial.params['n_layers']):\n",
        "    model.add(Dense(units=trial.params[f'units_layer_{i}'], activation='relu'))\n",
        "\n",
        "# Add the output layer\n",
        "model.add(Dense(units=3, activation='softmax'))\n",
        "\n",
        "# Compile the model\n",
        "model.compile(optimizer='adam', loss='categorical_crossentropy', metrics=['accuracy'])\n",
        "model.summary()"
      ],
      "metadata": {
        "id": "h_9uhdKiT9SS",
        "colab": {
          "base_uri": "https://localhost:8080/"
        },
        "outputId": "0944302b-ff7c-47fb-a2c7-096b96928407"
      },
      "execution_count": null,
      "outputs": [
        {
          "output_type": "stream",
          "name": "stdout",
          "text": [
            "Model: \"sequential_11\"\n",
            "_________________________________________________________________\n",
            " Layer (type)                Output Shape              Param #   \n",
            "=================================================================\n",
            " flatten_11 (Flatten)        (None, 13681)             0         \n",
            "                                                                 \n",
            " dense_46 (Dense)            (None, 427)               5842214   \n",
            "                                                                 \n",
            " dense_47 (Dense)            (None, 348)               148944    \n",
            "                                                                 \n",
            " dense_48 (Dense)            (None, 232)               80968     \n",
            "                                                                 \n",
            " dense_49 (Dense)            (None, 3)                 699       \n",
            "                                                                 \n",
            "=================================================================\n",
            "Total params: 6072825 (23.17 MB)\n",
            "Trainable params: 6072825 (23.17 MB)\n",
            "Non-trainable params: 0 (0.00 Byte)\n",
            "_________________________________________________________________\n"
          ]
        }
      ]
    },
    {
      "cell_type": "markdown",
      "source": [
        "Model diatas akan saya coba terapkan ke data validation terlebih dahulu untuk melihat confusion matrix dan classification reportnya.\n",
        "\n",
        "Terlihat bahwa baik akurasi, presisi, f1-score maupun recallnhya sudah cukup baik, kecuali untuk class 1. Hal ini disebabkan karena support untuk class 1 paling sedikit jumlahnya (pada saat training) sehingga model belum terlalu mengenali data seperti apa yang dapat dikategorikan sebagai class 1."
      ],
      "metadata": {
        "id": "0EG1bvpicn-h"
      }
    },
    {
      "cell_type": "code",
      "source": [
        "from sklearn.metrics import confusion_matrix, classification_report\n",
        "\n",
        "model.fit(x_train.toarray(), y_train, epochs=5, batch_size=32, validation_data=(x_valid.toarray(), y_valid), callbacks=[custom_early_stopping])\n",
        "pred=model.predict(x_valid.toarray())\n",
        "print(confusion_matrix(y_valid.argmax(axis=1), pred.argmax(axis=1)))\n",
        "print(classification_report(y_valid.argmax(axis=1), pred.argmax(axis=1)))"
      ],
      "metadata": {
        "id": "thEApLcf_6H7",
        "colab": {
          "base_uri": "https://localhost:8080/"
        },
        "outputId": "f9665809-1649-43b4-b87e-71fc7899c339"
      },
      "execution_count": null,
      "outputs": [
        {
          "output_type": "stream",
          "name": "stdout",
          "text": [
            "Epoch 1/5\n",
            "344/344 [==============================] - 5s 8ms/step - loss: 0.4380 - accuracy: 0.8216 - val_loss: 0.3244 - val_accuracy: 0.8786\n",
            "Epoch 2/5\n",
            "344/344 [==============================] - 2s 6ms/step - loss: 0.1370 - accuracy: 0.9538 - val_loss: 0.3969 - val_accuracy: 0.8810\n",
            "Epoch 3/5\n",
            "344/344 [==============================] - 2s 5ms/step - loss: 0.0357 - accuracy: 0.9881 - val_loss: 0.5494 - val_accuracy: 0.8675\n",
            "Epoch 4/5\n",
            "344/344 [==============================] - 2s 5ms/step - loss: 0.0113 - accuracy: 0.9968 - val_loss: 0.6773 - val_accuracy: 0.8595\n",
            "Epoch 5/5\n",
            "344/344 [==============================] - 2s 6ms/step - loss: 0.0055 - accuracy: 0.9982 - val_loss: 0.8745 - val_accuracy: 0.8627\n",
            "Restoring model weights from the end of the best epoch: 1.\n",
            "40/40 [==============================] - 0s 2ms/step\n",
            "[[331  16  47]\n",
            " [ 18  96  17]\n",
            " [ 27  28 680]]\n",
            "              precision    recall  f1-score   support\n",
            "\n",
            "           0       0.88      0.84      0.86       394\n",
            "           1       0.69      0.73      0.71       131\n",
            "           2       0.91      0.93      0.92       735\n",
            "\n",
            "    accuracy                           0.88      1260\n",
            "   macro avg       0.83      0.83      0.83      1260\n",
            "weighted avg       0.88      0.88      0.88      1260\n",
            "\n"
          ]
        }
      ]
    },
    {
      "cell_type": "markdown",
      "source": [
        "Terakhir, kita akan coba model kita pada data test untuk mensimulasikan data unseen (meskipun kali ini sudah ada ground truth nya).\n",
        "\n",
        "Terlihat bahwa sama kasusnya seperti pada data validation, class 1 memiliki performa prediksi terburuk karena saat training model belum begitu mengenali class 1."
      ],
      "metadata": {
        "id": "Y4GJB61Bcwhn"
      }
    },
    {
      "cell_type": "code",
      "source": [
        "x_test=test_df['combined_list']\n",
        "y_test=test_df['numeric_label']\n",
        "\n",
        "x_test=tfidf_vectorizer.transform(x_test)\n",
        "y_test = to_categorical(y_test, num_classes=3)\n",
        "\n",
        "pred=model.predict(x_test.toarray())\n",
        "print(confusion_matrix(y_test.argmax(axis=1), pred.argmax(axis=1)))\n",
        "print(classification_report(y_test.argmax(axis=1), pred.argmax(axis=1)))"
      ],
      "metadata": {
        "colab": {
          "base_uri": "https://localhost:8080/"
        },
        "id": "gb1xtXXXQhUk",
        "outputId": "393791e9-63ed-4d46-9cfa-e44eb82393c0"
      },
      "execution_count": null,
      "outputs": [
        {
          "output_type": "stream",
          "name": "stdout",
          "text": [
            "16/16 [==============================] - 0s 2ms/step\n",
            "[[180  12  12]\n",
            " [ 14  60  14]\n",
            " [ 24  19 165]]\n",
            "              precision    recall  f1-score   support\n",
            "\n",
            "           0       0.83      0.88      0.85       204\n",
            "           1       0.66      0.68      0.67        88\n",
            "           2       0.86      0.79      0.83       208\n",
            "\n",
            "    accuracy                           0.81       500\n",
            "   macro avg       0.78      0.79      0.78       500\n",
            "weighted avg       0.81      0.81      0.81       500\n",
            "\n"
          ]
        }
      ]
    },
    {
      "cell_type": "markdown",
      "source": [
        "Kesimpulannya, model dapat ditingkatkan dengan cleaning data yang lebih advanced, salah satunya adalah typo checking. Selain itu penyeimbangan jumlah data training untuk ketiga class juga dapat membuat model lebih mengenali seluruh class dan meningkatkan kualitas prediksi secara keseluruhan."
      ],
      "metadata": {
        "id": "7N2iKchYeC_A"
      }
    }
  ]
}